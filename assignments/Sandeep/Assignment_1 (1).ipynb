{
  "metadata": {
    "colab": {
      "provenance": [],
      "collapsed_sections": []
    },
    "kernelspec": {
      "name": "python",
      "display_name": "Python (Pyodide)",
      "language": "python"
    },
    "language_info": {
      "codemirror_mode": {
        "name": "python",
        "version": 3
      },
      "file_extension": ".py",
      "mimetype": "text/x-python",
      "name": "python",
      "nbconvert_exporter": "python",
      "pygments_lexer": "ipython3",
      "version": "3.8"
    }
  },
  "nbformat_minor": 4,
  "nbformat": 4,
  "cells": [
    {
      "cell_type": "markdown",
      "source": "# Basic Python",
      "metadata": {
        "id": "McSxJAwcOdZ1"
      }
    },
    {
      "cell_type": "markdown",
      "source": "## 1. Split this string",
      "metadata": {
        "id": "CU48hgo4Owz5"
      }
    },
    {
      "cell_type": "code",
      "source": "s=\"Hi there Sam!\"",
      "metadata": {
        "id": "s07c7JK7Oqt-"
      },
      "execution_count": null,
      "outputs": []
    },
    {
      "cell_type": "raw",
      "source": "s=\"Hi there Sam!\"\nx=s.split()\nprint(x)",
      "metadata": {
        "id": "6mGVa3SQYLkb"
      }
    },
    {
      "cell_type": "markdown",
      "source": "*`italicized text`*## 2. Use .format() to print the following string. \n\n### Output should be: The diameter of Earth is 12742 kilometers.",
      "metadata": {
        "id": "GH1QBn8HP375"
      }
    },
    {
      "cell_type": "code",
      "source": "planet = \"Earth\"\ndiameter = 12742",
      "metadata": {
        "id": "_ZHoml3kPqic"
      },
      "execution_count": null,
      "outputs": []
    },
    {
      "cell_type": "code",
      "source": "planet = \"Earth\"\ndiameter = 12742\nprint( 'the diameter of {} is {} kilometers.' .format(planet,diameter))",
      "metadata": {
        "id": "HyRyJv6CYPb4",
        "trusted": true
      },
      "execution_count": 22,
      "outputs": [
        {
          "name": "stdout",
          "text": "the diameter of Earth is 12742 kilometers.\n",
          "output_type": "stream"
        }
      ]
    },
    {
      "cell_type": "markdown",
      "source": "## 3. In this nest dictionary grab the word \"hello\"",
      "metadata": {
        "id": "KE74ZEwkRExZ"
      }
    },
    {
      "cell_type": "code",
      "source": "d = {'k1':[1,2,3,{'tricky':['oh','man','inception',{'target':[1,2,3,'hello']}]}]}",
      "metadata": {
        "id": "fcVwbCc1QrQI",
        "trusted": true
      },
      "execution_count": 21,
      "outputs": []
    },
    {
      "cell_type": "code",
      "source": "d = {'k1':[1,2,3,{'tricky':['oh','man','inception',{'target':[1,2,3,'hello']}]}]}\nprint(d['k1'][3]['tricky'][3]['target'][3])",
      "metadata": {
        "id": "MvbkMZpXYRaw",
        "trusted": true
      },
      "execution_count": 4,
      "outputs": [
        {
          "name": "stdout",
          "text": "hello\n",
          "output_type": "stream"
        }
      ]
    },
    {
      "cell_type": "markdown",
      "source": "# Numpy",
      "metadata": {
        "id": "bw0vVp-9ddjv"
      }
    },
    {
      "cell_type": "code",
      "source": "import numpy as np",
      "metadata": {
        "id": "LLiE_TYrhA1O"
      },
      "execution_count": null,
      "outputs": []
    },
    {
      "cell_type": "markdown",
      "source": "## 4.1 Create an array of 10 zeros? \n## 4.2 Create an array of 10 fives?",
      "metadata": {
        "id": "wOg8hinbgx30"
      }
    },
    {
      "cell_type": "code",
      "source": "array=np.zeros(10)\nprint(array)",
      "metadata": {
        "id": "NHrirmgCYXvU",
        "trusted": true
      },
      "execution_count": 23,
      "outputs": [
        {
          "name": "stdout",
          "text": "[0. 0. 0. 0. 0. 0. 0. 0. 0. 0.]\n",
          "output_type": "stream"
        }
      ]
    },
    {
      "cell_type": "code",
      "source": "import numpy as np\narray=np.ones(10)*5\nprint(array)",
      "metadata": {
        "id": "e4005lsTYXxx",
        "trusted": true
      },
      "execution_count": 5,
      "outputs": [
        {
          "name": "stdout",
          "text": "[5. 5. 5. 5. 5. 5. 5. 5. 5. 5.]\n",
          "output_type": "stream"
        }
      ]
    },
    {
      "cell_type": "markdown",
      "source": "## 5. Create an array of all the even integers from 20 to 35",
      "metadata": {
        "id": "gZHHDUBvrMX4"
      }
    },
    {
      "cell_type": "code",
      "source": "import numpy as np\nx=np.arange(20,36)\ny=(x%2==0)\nz=x[y]\nprint(z)",
      "metadata": {
        "id": "oAI2tbU2Yag-",
        "trusted": true
      },
      "execution_count": 11,
      "outputs": [
        {
          "name": "stdout",
          "text": "[20 22 24 26 28 30 32 34]\n",
          "output_type": "stream"
        }
      ]
    },
    {
      "cell_type": "markdown",
      "source": "## 6. Create a 3x3 matrix with values ranging from 0 to 8",
      "metadata": {
        "id": "NaOM308NsRpZ"
      }
    },
    {
      "cell_type": "code",
      "source": "x=np.arange(0,9).reshape((3,3))\nprint(x)",
      "metadata": {
        "id": "tOlEVH7BYceE",
        "trusted": true
      },
      "execution_count": 12,
      "outputs": [
        {
          "name": "stdout",
          "text": "[[0 1 2]\n [3 4 5]\n [6 7 8]]\n",
          "output_type": "stream"
        }
      ]
    },
    {
      "cell_type": "markdown",
      "source": "## 7. Concatinate a and b \n## a = np.array([1, 2, 3]), b = np.array([4, 5, 6])",
      "metadata": {
        "id": "hQ0dnhAQuU_p"
      }
    },
    {
      "cell_type": "code",
      "source": "a=np.array([1,2,3])\nb=np.array([4,5,6])\nx=np.concatenate((a,b))\nprint(x)",
      "metadata": {
        "id": "rAPSw97aYfE0",
        "trusted": true
      },
      "execution_count": 13,
      "outputs": [
        {
          "name": "stdout",
          "text": "[1 2 3 4 5 6]\n",
          "output_type": "stream"
        }
      ]
    },
    {
      "cell_type": "markdown",
      "source": "# Pandas",
      "metadata": {
        "id": "dlPEY9DRwZga"
      }
    },
    {
      "cell_type": "markdown",
      "source": "## 8. Create a dataframe with 3 rows and 2 columns",
      "metadata": {
        "id": "ijoYW51zwr87"
      }
    },
    {
      "cell_type": "code",
      "source": "import pandas as pd\n",
      "metadata": {
        "id": "T5OxJRZ8uvR7"
      },
      "execution_count": null,
      "outputs": []
    },
    {
      "cell_type": "code",
      "source": "dataframe=np.random.randint(15,size=(3,2))\nprint(dataframe)",
      "metadata": {
        "id": "xNpI_XXoYhs0",
        "trusted": true
      },
      "execution_count": 14,
      "outputs": [
        {
          "name": "stdout",
          "text": "[[ 3 12]\n [ 4  0]\n [11  5]]\n",
          "output_type": "stream"
        }
      ]
    },
    {
      "cell_type": "markdown",
      "source": "## 9. Generate the series of dates from 1st Jan, 2023 to 10th Feb, 2023",
      "metadata": {
        "id": "UXSmdNclyJQD"
      }
    },
    {
      "cell_type": "code",
      "source": "import pandas as pd \nfrom datetime import datetime ,timedelta\nsdate =date(2023,1,1)\nedate = date(2023, 2, 10)\npd.date_range(sdate,edate-timedelta(days=1),freq='d')",
      "metadata": {
        "id": "dgyC0JhVYl4F",
        "trusted": true
      },
      "execution_count": 34,
      "outputs": [
        {
          "ename": "<class 'NameError'>",
          "evalue": "name 'date' is not defined",
          "traceback": [
            "\u001b[0;31m---------------------------------------------------------------------------\u001b[0m",
            "\u001b[0;31mNameError\u001b[0m                                 Traceback (most recent call last)",
            "Cell \u001b[0;32mIn [34], line 3\u001b[0m\n\u001b[1;32m      1\u001b[0m \u001b[38;5;28;01mimport\u001b[39;00m \u001b[38;5;21;01mpandas\u001b[39;00m \u001b[38;5;28;01mas\u001b[39;00m \u001b[38;5;21;01mpd\u001b[39;00m \n\u001b[1;32m      2\u001b[0m \u001b[38;5;28;01mfrom\u001b[39;00m \u001b[38;5;21;01mdatetime\u001b[39;00m \u001b[38;5;28;01mimport\u001b[39;00m datetime ,timedelta\n\u001b[0;32m----> 3\u001b[0m sdate \u001b[38;5;241m=\u001b[39m\u001b[43mdate\u001b[49m(\u001b[38;5;241m2023\u001b[39m,\u001b[38;5;241m1\u001b[39m,\u001b[38;5;241m1\u001b[39m)\n\u001b[1;32m      4\u001b[0m edate \u001b[38;5;241m=\u001b[39m date(\u001b[38;5;241m2023\u001b[39m, \u001b[38;5;241m2\u001b[39m, \u001b[38;5;241m10\u001b[39m)\n\u001b[1;32m      5\u001b[0m pd\u001b[38;5;241m.\u001b[39mdate_range(sdate,edate\u001b[38;5;241m-\u001b[39mtimedelta(days\u001b[38;5;241m=\u001b[39m\u001b[38;5;241m1\u001b[39m),freq\u001b[38;5;241m=\u001b[39m\u001b[38;5;124m'\u001b[39m\u001b[38;5;124md\u001b[39m\u001b[38;5;124m'\u001b[39m)\n",
            "\u001b[0;31mNameError\u001b[0m: name 'date' is not defined"
          ],
          "output_type": "error"
        }
      ]
    },
    {
      "cell_type": "markdown",
      "source": "## 10. Create 2D list to DataFrame\n\nlists = [[1, 'aaa', 22],\n         [2, 'bbb', 25],\n         [3, 'ccc', 24]]",
      "metadata": {
        "id": "ZizSetD-y5az"
      }
    },
    {
      "cell_type": "code",
      "source": "lists = [[1, 'aaa', 22], [2, 'bbb', 25], [3, 'ccc', 24]]",
      "metadata": {
        "id": "_XMC8aEt0llB"
      },
      "execution_count": null,
      "outputs": []
    },
    {
      "cell_type": "code",
      "source": "\nlists = [[1, 'aaa', 22], [2, 'bbb', 25], [3, 'ccc', 24]]\ndateframe=pd.DataFrame(lists)\nprint(dataframe)",
      "metadata": {
        "id": "knH76sDKYsVX",
        "trusted": true
      },
      "execution_count": 31,
      "outputs": [
        {
          "name": "stdout",
          "text": "[[ 3 12]\n [ 4  0]\n [11  5]]\n",
          "output_type": "stream"
        }
      ]
    },
    {
      "cell_type": "code",
      "source": "",
      "metadata": {},
      "execution_count": null,
      "outputs": []
    }
  ]
}